{
 "cells": [
  {
   "cell_type": "markdown",
   "id": "74745633-6f0b-43b5-9e6d-4e1154733ecd",
   "metadata": {},
   "source": [
    "# search () and match()"
   ]
  },
  {
   "cell_type": "code",
   "execution_count": 5,
   "id": "756491f4-3db6-4a95-94ff-d4fa70bb88d1",
   "metadata": {},
   "outputs": [],
   "source": [
    "import re"
   ]
  },
  {
   "cell_type": "code",
   "execution_count": 4,
   "id": "a1733615-c976-40ba-a1a0-3ad43eda47e8",
   "metadata": {},
   "outputs": [
    {
     "name": "stdout",
     "output_type": "stream",
     "text": [
      "<re.Match object; span=(4, 8), match='1000'>\n"
     ]
    }
   ],
   "source": [
    "pattern=r'10*'\n",
    "print(re.search(pattern,'abcd1000'))"
   ]
  },
  {
   "cell_type": "code",
   "execution_count": 5,
   "id": "8ea2890e-1c64-46de-9117-dc8a429ff0e4",
   "metadata": {},
   "outputs": [
    {
     "name": "stdout",
     "output_type": "stream",
     "text": [
      "<re.Match object; span=(0, 4), match='1000'>\n"
     ]
    }
   ],
   "source": [
    "pattern=r'10*'\n",
    "print(re.match(pattern,'1000abcd1000'))"
   ]
  },
  {
   "cell_type": "code",
   "execution_count": 7,
   "id": "f7cb011a-19ee-4c82-9182-a7c77c6e2d9c",
   "metadata": {},
   "outputs": [
    {
     "name": "stdout",
     "output_type": "stream",
     "text": [
      "<re.Match object; span=(15, 23), match='tutorial'>\n"
     ]
    }
   ],
   "source": [
    "pattern=r'\\w{8}'\n",
    "print(re.search(pattern,'this is python tutorial'))"
   ]
  },
  {
   "cell_type": "code",
   "execution_count": 8,
   "id": "196cc275-157c-444c-bfc7-587656e1435b",
   "metadata": {},
   "outputs": [
    {
     "name": "stdout",
     "output_type": "stream",
     "text": [
      "<re.Match object; span=(0, 8), match='tutorial'>\n"
     ]
    }
   ],
   "source": [
    "pattern=r'\\w{8}'\n",
    "print(re.match(pattern,'tutorial this is python tutorial'))"
   ]
  },
  {
   "cell_type": "markdown",
   "id": "8e99eb2d-84ce-47db-b743-b359d1f2f92d",
   "metadata": {},
   "source": [
    "# search() and findall()"
   ]
  },
  {
   "cell_type": "code",
   "execution_count": 11,
   "id": "2760a6e8-0fc7-4548-8f3a-51915ebca52e",
   "metadata": {},
   "outputs": [
    {
     "name": "stdout",
     "output_type": "stream",
     "text": [
      "<re.Match object; span=(15, 23), match='tutorial'>\n"
     ]
    }
   ],
   "source": [
    "pattern=r'\\w{8}'\n",
    "print(re.search(pattern,'this is python tutorial'))"
   ]
  },
  {
   "cell_type": "code",
   "execution_count": 12,
   "id": "12ff36ad-8a20-4042-9927-100fc90271da",
   "metadata": {},
   "outputs": [
    {
     "name": "stdout",
     "output_type": "stream",
     "text": [
      "['tutorial', 'tutorial']\n"
     ]
    }
   ],
   "source": [
    "pattern=r'\\w{8}'\n",
    "print(re.findall(pattern,'this is python tutorial tutorials'))"
   ]
  },
  {
   "cell_type": "code",
   "execution_count": 14,
   "id": "f1f9303f-205b-44f2-ba2f-c23ebe402a9e",
   "metadata": {},
   "outputs": [
    {
     "name": "stdout",
     "output_type": "stream",
     "text": [
      "['tutorial', 'tutorial']\n"
     ]
    }
   ],
   "source": [
    "pattern=r'\\b\\w{8}\\b'\n",
    "print(re.findall(pattern,'this is python tutorial tutorial tutorials'))"
   ]
  },
  {
   "cell_type": "code",
   "execution_count": 21,
   "id": "6f71a0b1-df65-4eae-b93e-d33efe5886fb",
   "metadata": {},
   "outputs": [
    {
     "name": "stdout",
     "output_type": "stream",
     "text": [
      "['this is python tutorial tutorial tutorials']\n"
     ]
    }
   ],
   "source": [
    "pattern=r'^.*tutorials$'\n",
    "print(re.findall(pattern,'this is python tutorial tutorial tutorials'))"
   ]
  },
  {
   "cell_type": "markdown",
   "id": "1a533492-3376-480a-8d94-776b71150fa5",
   "metadata": {},
   "source": [
    "# sub()"
   ]
  },
  {
   "cell_type": "code",
   "execution_count": 23,
   "id": "2046bde0-5814-4826-8b6d-8cb4b33177ce",
   "metadata": {},
   "outputs": [
    {
     "name": "stdout",
     "output_type": "stream",
     "text": [
      ";d;y;u;;;d\n"
     ]
    }
   ],
   "source": [
    "pattern=r'[,.\\s]'\n",
    "print(re.sub(pattern,';',',d,y,u. .d'))"
   ]
  },
  {
   "cell_type": "code",
   "execution_count": 6,
   "id": "8c6e06f7-42d9-43ff-b3f4-9e0482f69746",
   "metadata": {},
   "outputs": [
    {
     "name": "stdout",
     "output_type": "stream",
     "text": [
      "j^^^^^^e\n"
     ]
    }
   ],
   "source": [
    "pattern1=r'[,.\\s@#]'\n",
    "print(re.sub(pattern1,'^',\"j .,@# e\"))"
   ]
  },
  {
   "cell_type": "markdown",
   "id": "5c1ef6a7-d77f-4699-b2cc-ac59988db60c",
   "metadata": {},
   "source": [
    "# gmail making"
   ]
  },
  {
   "cell_type": "code",
   "execution_count": 17,
   "id": "fd412681-b0cd-4ed5-aa2d-a39e3535afdf",
   "metadata": {},
   "outputs": [
    {
     "name": "stdout",
     "output_type": "stream",
     "text": [
      "<re.Match object; span=(0, 19), match='Akshay123@gmail.com'>\n"
     ]
    }
   ],
   "source": [
    "password=r'[a-zA-Z]+[0-9]+@gmail.com'\n",
    "print(re.search(password,'Akshay123@gmail.com'))"
   ]
  },
  {
   "cell_type": "code",
   "execution_count": 9,
   "id": "550f16ec-1590-4b63-a8f6-b24d056b9db0",
   "metadata": {},
   "outputs": [
    {
     "name": "stdout",
     "output_type": "stream",
     "text": [
      "None\n"
     ]
    }
   ],
   "source": [
    "password=r'[a-zA-Z]+[0-9]+@gmail.com'\n",
    "print(re.search(password,'akshay@gmail.com'))"
   ]
  },
  {
   "cell_type": "code",
   "execution_count": 10,
   "id": "5450d2d2-2957-4cf6-83ca-f8242ccf21d4",
   "metadata": {},
   "outputs": [
    {
     "name": "stdout",
     "output_type": "stream",
     "text": [
      "None\n"
     ]
    }
   ],
   "source": [
    "password=r'[a-zA-Z]+[0-9]+@gmail.com'\n",
    "print(re.search(password,'akshay12$3@gmail.com'))"
   ]
  },
  {
   "cell_type": "code",
   "execution_count": 16,
   "id": "533bb003-a4f9-403c-810c-8ef17bdc791e",
   "metadata": {},
   "outputs": [
    {
     "name": "stdout",
     "output_type": "stream",
     "text": [
      "None\n"
     ]
    }
   ],
   "source": [
    "password=r'[a-zA-Z]+\\d[0-9]\\d+@gmail.com'\n",
    "print(re.search(password,'Akshay@gmail.com'))"
   ]
  },
  {
   "cell_type": "markdown",
   "id": "676814e3-349a-40d2-8fb9-df9e2dce9b12",
   "metadata": {},
   "source": [
    "# password validation"
   ]
  },
  {
   "cell_type": "code",
   "execution_count": 20,
   "id": "c80913ca-5511-4295-a8f8-065cab4210d2",
   "metadata": {},
   "outputs": [],
   "source": [
    "import re"
   ]
  },
  {
   "cell_type": "code",
   "execution_count": 44,
   "id": "ce6cb8ed-bb5f-4445-af95-8c985b63d7fd",
   "metadata": {},
   "outputs": [
    {
     "name": "stdout",
     "output_type": "stream",
     "text": [
      "valid\n"
     ]
    },
    {
     "name": "stderr",
     "output_type": "stream",
     "text": [
      "<>:1: SyntaxWarning: invalid escape sequence '\\d'\n",
      "<>:1: SyntaxWarning: invalid escape sequence '\\d'\n",
      "C:\\Users\\DELL\\AppData\\Local\\Temp\\ipykernel_9464\\3198622759.py:1: SyntaxWarning: invalid escape sequence '\\d'\n",
      "  regex=\"^(?=.*[A-Za-z])(?=.*\\d)[A-Za-z\\d]{8}$\"\n"
     ]
    }
   ],
   "source": [
    "regex=\"^(?=.*[A-Za-z])(?=.*\\d)[A-Za-z\\d]{8}$\"\n",
    "def check_password(p):\n",
    "    if re.search(regex,p):\n",
    "        print(\"valid\")\n",
    "    else:\n",
    "        print(\"invalid\")\n",
    "check_password(\"akshay12\")"
   ]
  },
  {
   "cell_type": "code",
   "execution_count": 45,
   "id": "4434dd3a-2b67-4b84-8696-e90525b86ef7",
   "metadata": {},
   "outputs": [
    {
     "name": "stdout",
     "output_type": "stream",
     "text": [
      "invalid\n"
     ]
    },
    {
     "name": "stderr",
     "output_type": "stream",
     "text": [
      "<>:1: SyntaxWarning: invalid escape sequence '\\d'\n",
      "<>:1: SyntaxWarning: invalid escape sequence '\\d'\n",
      "C:\\Users\\DELL\\AppData\\Local\\Temp\\ipykernel_9464\\2537432235.py:1: SyntaxWarning: invalid escape sequence '\\d'\n",
      "  regex=\"^(?=.*[A-Za-z])(?=.*\\d)[A-Za-z\\d]{8}$\"\n"
     ]
    }
   ],
   "source": [
    "regex=\"^(?=.*[A-Za-z])(?=.*\\d)[A-Za-z\\d]{8}$\"\n",
    "def check_password(p):\n",
    "    if re.search(regex,p):\n",
    "        print(\"valid\")\n",
    "    else:\n",
    "        print(\"invalid\")\n",
    "check_password(\"akshay1772\")"
   ]
  },
  {
   "cell_type": "code",
   "execution_count": 27,
   "id": "15adbeec-2e66-4331-a0ad-c23162df5ea5",
   "metadata": {},
   "outputs": [
    {
     "name": "stdout",
     "output_type": "stream",
     "text": [
      "valid\n"
     ]
    }
   ],
   "source": [
    "password=r'[A-Za-z]+[0-9]'\n",
    "if re.search(password,'Aargddfg34356':\n",
    "    print(\"valid\")\n",
    "else:\n",
    "    print(\"invalid\")"
   ]
  },
  {
   "cell_type": "code",
   "execution_count": 40,
   "id": "bae712b2-0e36-4417-a7fe-b1b5ba76e755",
   "metadata": {},
   "outputs": [
    {
     "name": "stdout",
     "output_type": "stream",
     "text": [
      "valid\n"
     ]
    }
   ],
   "source": [
    "password=r'[A-Za-z]+[0-9]'\n",
    "if re.search(password,'argddfg34356'):\n",
    "    print(\"valid\")\n",
    "else:\n",
    "    print(\"invalid\")"
   ]
  },
  {
   "cell_type": "code",
   "execution_count": 43,
   "id": "9e7bf06b-a489-4ab5-9ce5-7554c86d7298",
   "metadata": {},
   "outputs": [
    {
     "name": "stdout",
     "output_type": "stream",
     "text": [
      "valid\n"
     ]
    }
   ],
   "source": [
    "password=r'[a-z]+[0-9]' \n",
    "if re.search(password,'arAgd3dfg'):\n",
    "    print(\"valid\")       \n",
    "else:\n",
    "    print(\"invalid\")"
   ]
  },
  {
   "cell_type": "markdown",
   "id": "f00493eb-a8bc-4195-9b71-ede0230cd57c",
   "metadata": {},
   "source": [
    "# email validation"
   ]
  },
  {
   "cell_type": "code",
   "execution_count": 46,
   "id": "bc1b31d7-b002-4ea0-8f90-49b0e7942552",
   "metadata": {},
   "outputs": [
    {
     "ename": "NameError",
     "evalue": "name 'p' is not defined",
     "output_type": "error",
     "traceback": [
      "\u001b[1;31m---------------------------------------------------------------------------\u001b[0m",
      "\u001b[1;31mNameError\u001b[0m                                 Traceback (most recent call last)",
      "Cell \u001b[1;32mIn[46], line 7\u001b[0m\n\u001b[0;32m      5\u001b[0m     \u001b[38;5;28;01melse\u001b[39;00m:\n\u001b[0;32m      6\u001b[0m         \u001b[38;5;28mprint\u001b[39m(\u001b[38;5;124m\"\u001b[39m\u001b[38;5;124minvalid\u001b[39m\u001b[38;5;124m\"\u001b[39m)\n\u001b[1;32m----> 7\u001b[0m check_email(\u001b[38;5;124m'\u001b[39m\u001b[38;5;124makshat@gmail.com\u001b[39m\u001b[38;5;124m'\u001b[39m)\n",
      "Cell \u001b[1;32mIn[46], line 3\u001b[0m, in \u001b[0;36mcheck_email\u001b[1;34m(P)\u001b[0m\n\u001b[0;32m      2\u001b[0m \u001b[38;5;28;01mdef\u001b[39;00m \u001b[38;5;21mcheck_email\u001b[39m(P):\n\u001b[1;32m----> 3\u001b[0m     \u001b[38;5;28;01mif\u001b[39;00m re\u001b[38;5;241m.\u001b[39msearch(regex,p):\n\u001b[0;32m      4\u001b[0m         \u001b[38;5;28mprint\u001b[39m(\u001b[38;5;124m\"\u001b[39m\u001b[38;5;124mvalid\u001b[39m\u001b[38;5;124m\"\u001b[39m)\n\u001b[0;32m      5\u001b[0m     \u001b[38;5;28;01melse\u001b[39;00m:\n",
      "\u001b[1;31mNameError\u001b[0m: name 'p' is not defined"
     ]
    }
   ],
   "source": [
    "import re\n",
    "regex=r'^[a-zA-z0-9_.+-]+@[a-zA-z0-9-]+\\.[a-zA-Z0-9-.]+$'\n",
    "def check_email(P):\n",
    "    if re.search(regex,p):\n",
    "        print(\"valid\")\n",
    "    else:\n",
    "        print(\"invalid\")\n",
    "check_email('akshat@gmail.com')"
   ]
  },
  {
   "cell_type": "code",
   "execution_count": null,
   "id": "3e184d7e-2f5f-41cb-a2ef-7b829e6c887c",
   "metadata": {},
   "outputs": [],
   "source": []
  }
 ],
 "metadata": {
  "kernelspec": {
   "display_name": "Python 3 (ipykernel)",
   "language": "python",
   "name": "python3"
  },
  "language_info": {
   "codemirror_mode": {
    "name": "ipython",
    "version": 3
   },
   "file_extension": ".py",
   "mimetype": "text/x-python",
   "name": "python",
   "nbconvert_exporter": "python",
   "pygments_lexer": "ipython3",
   "version": "3.12.7"
  }
 },
 "nbformat": 4,
 "nbformat_minor": 5
}
