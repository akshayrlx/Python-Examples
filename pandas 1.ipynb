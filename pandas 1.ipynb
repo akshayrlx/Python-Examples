{
 "cells": [
  {
   "cell_type": "code",
   "execution_count": 3,
   "id": "8aef9882-9152-4d1e-ac6b-3a3307bc0c8a",
   "metadata": {},
   "outputs": [],
   "source": [
    "import numpy as np\n",
    "import pandas as pd"
   ]
  },
  {
   "cell_type": "code",
   "execution_count": 2,
   "id": "b72f81de-3c93-4a5c-bb20-20ccb4ca77f8",
   "metadata": {},
   "outputs": [],
   "source": [
    "labels=['a','b','c']\n",
    "my_list=[10,20,30]\n",
    "arr=np.array([20,30,40])\n",
    "d={'s':100,'b':200,'c':300}"
   ]
  },
  {
   "cell_type": "code",
   "execution_count": 3,
   "id": "404779b6-94b6-48a2-bc2b-112f5a15999a",
   "metadata": {},
   "outputs": [
    {
     "data": {
      "text/plain": [
       "0    10\n",
       "1    20\n",
       "2    30\n",
       "dtype: int64"
      ]
     },
     "execution_count": 3,
     "metadata": {},
     "output_type": "execute_result"
    }
   ],
   "source": [
    "pd.Series(data=my_list)"
   ]
  },
  {
   "cell_type": "code",
   "execution_count": 4,
   "id": "82c6f0fc-7b4c-4436-9b35-115397135f4c",
   "metadata": {},
   "outputs": [
    {
     "data": {
      "text/plain": [
       "a    10\n",
       "b    20\n",
       "c    30\n",
       "dtype: int64"
      ]
     },
     "execution_count": 4,
     "metadata": {},
     "output_type": "execute_result"
    }
   ],
   "source": [
    "pd.Series(data=my_list,index=labels)"
   ]
  },
  {
   "cell_type": "code",
   "execution_count": 11,
   "id": "8b3d2474-3751-49e9-b87b-910907af8cc1",
   "metadata": {},
   "outputs": [
    {
     "data": {
      "text/plain": [
       "10    a\n",
       "20    b\n",
       "30    c\n",
       "dtype: object"
      ]
     },
     "execution_count": 11,
     "metadata": {},
     "output_type": "execute_result"
    }
   ],
   "source": [
    "pd.Series(labels,my_list)"
   ]
  },
  {
   "cell_type": "code",
   "execution_count": 6,
   "id": "ab195b38-7bdf-4efc-a318-80031999de8d",
   "metadata": {},
   "outputs": [
    {
     "data": {
      "text/plain": [
       "a    10\n",
       "b    20\n",
       "c    30\n",
       "dtype: int64"
      ]
     },
     "execution_count": 6,
     "metadata": {},
     "output_type": "execute_result"
    }
   ],
   "source": [
    "pd.Series(my_list,labels)"
   ]
  },
  {
   "cell_type": "code",
   "execution_count": 7,
   "id": "5ddc7097-4ed9-4919-ba27-2f016969c8fa",
   "metadata": {},
   "outputs": [
    {
     "data": {
      "text/plain": [
       "0    20\n",
       "1    30\n",
       "2    40\n",
       "dtype: int32"
      ]
     },
     "execution_count": 7,
     "metadata": {},
     "output_type": "execute_result"
    }
   ],
   "source": [
    "pd.Series(arr)"
   ]
  },
  {
   "cell_type": "code",
   "execution_count": 8,
   "id": "a5fefc78-7435-4bce-9873-fa20def8d017",
   "metadata": {},
   "outputs": [
    {
     "data": {
      "text/plain": [
       "a    20\n",
       "b    30\n",
       "c    40\n",
       "dtype: int32"
      ]
     },
     "execution_count": 8,
     "metadata": {},
     "output_type": "execute_result"
    }
   ],
   "source": [
    "pd.Series(arr,labels)"
   ]
  },
  {
   "cell_type": "code",
   "execution_count": 9,
   "id": "1516ed82-6309-441c-9d13-45c7e1d1e9e0",
   "metadata": {},
   "outputs": [
    {
     "data": {
      "text/plain": [
       "s    100\n",
       "b    200\n",
       "c    300\n",
       "dtype: int64"
      ]
     },
     "execution_count": 9,
     "metadata": {},
     "output_type": "execute_result"
    }
   ],
   "source": [
    "pd.Series(d)"
   ]
  },
  {
   "cell_type": "code",
   "execution_count": 16,
   "id": "74c9197b-e531-4438-86dd-bcdb1e4bdd32",
   "metadata": {},
   "outputs": [
    {
     "data": {
      "text/plain": [
       "0    a\n",
       "1    b\n",
       "2    c\n",
       "dtype: object"
      ]
     },
     "execution_count": 16,
     "metadata": {},
     "output_type": "execute_result"
    }
   ],
   "source": [
    "pd.Series(data=labels)"
   ]
  },
  {
   "cell_type": "code",
   "execution_count": 17,
   "id": "e333b732-2b0f-4264-bb0e-72da6b8b12fc",
   "metadata": {},
   "outputs": [
    {
     "data": {
      "text/plain": [
       "0    20\n",
       "1    30\n",
       "2    40\n",
       "dtype: int32"
      ]
     },
     "execution_count": 17,
     "metadata": {},
     "output_type": "execute_result"
    }
   ],
   "source": [
    "pd.Series(data=arr)"
   ]
  },
  {
   "cell_type": "code",
   "execution_count": 26,
   "id": "fff9411c-20dd-4d3e-a3fc-885d5be2e76d",
   "metadata": {},
   "outputs": [
    {
     "data": {
      "text/plain": [
       "0      <built-in function sum>\n",
       "1    <built-in function print>\n",
       "2      <built-in function len>\n",
       "dtype: object"
      ]
     },
     "execution_count": 26,
     "metadata": {},
     "output_type": "execute_result"
    }
   ],
   "source": [
    "pd.Series([sum,print,len])"
   ]
  },
  {
   "cell_type": "code",
   "execution_count": null,
   "id": "7b3ea47b-4f85-441e-8eee-43cdd4d11dd3",
   "metadata": {},
   "outputs": [],
   "source": []
  },
  {
   "cell_type": "code",
   "execution_count": 12,
   "id": "9002f2cc-68f9-4621-8242-99e826c19280",
   "metadata": {},
   "outputs": [],
   "source": [
    "ser1=pd.Series([1,2,3,4],index=[\"japan\",\"croatia\",\"uk\",\"india\"])"
   ]
  },
  {
   "cell_type": "code",
   "execution_count": 13,
   "id": "21cd2181-d455-4f9f-b60b-31647183fa66",
   "metadata": {},
   "outputs": [
    {
     "data": {
      "text/plain": [
       "japan      1\n",
       "croatia    2\n",
       "uk         3\n",
       "india      4\n",
       "dtype: int64"
      ]
     },
     "execution_count": 13,
     "metadata": {},
     "output_type": "execute_result"
    }
   ],
   "source": [
    "ser1"
   ]
  },
  {
   "cell_type": "code",
   "execution_count": 14,
   "id": "4160c1af-21d4-47f9-917d-b67d0cb5cc8b",
   "metadata": {},
   "outputs": [],
   "source": [
    "ser2=pd.Series([1,4,7,9],index=[\"japan\",\"uk\",\"spain\",\"italy\"])"
   ]
  },
  {
   "cell_type": "code",
   "execution_count": 15,
   "id": "ea09d941-e4b4-4e65-9437-f90a1f21fabe",
   "metadata": {},
   "outputs": [
    {
     "data": {
      "text/plain": [
       "japan    1\n",
       "uk       4\n",
       "spain    7\n",
       "italy    9\n",
       "dtype: int64"
      ]
     },
     "execution_count": 15,
     "metadata": {},
     "output_type": "execute_result"
    }
   ],
   "source": [
    "ser2"
   ]
  },
  {
   "cell_type": "code",
   "execution_count": 16,
   "id": "b07c3698-4628-426e-a1a3-19640c9527c9",
   "metadata": {},
   "outputs": [
    {
     "data": {
      "text/plain": [
       "croatia    NaN\n",
       "india      NaN\n",
       "italy      NaN\n",
       "japan      2.0\n",
       "spain      NaN\n",
       "uk         7.0\n",
       "dtype: float64"
      ]
     },
     "execution_count": 16,
     "metadata": {},
     "output_type": "execute_result"
    }
   ],
   "source": [
    "ser1+ser2"
   ]
  },
  {
   "cell_type": "code",
   "execution_count": 17,
   "id": "bb55dec2-9774-4cec-a022-443b54a8c579",
   "metadata": {},
   "outputs": [
    {
     "data": {
      "text/plain": [
       "croatia    NaN\n",
       "india      NaN\n",
       "italy      NaN\n",
       "japan      0.0\n",
       "spain      NaN\n",
       "uk        -1.0\n",
       "dtype: float64"
      ]
     },
     "execution_count": 17,
     "metadata": {},
     "output_type": "execute_result"
    }
   ],
   "source": [
    "ser1-ser2"
   ]
  },
  {
   "cell_type": "code",
   "execution_count": 18,
   "id": "8950e50c-30b0-4e36-b5bb-e104b03cf85c",
   "metadata": {},
   "outputs": [
    {
     "data": {
      "text/plain": [
       "croatia     NaN\n",
       "india       NaN\n",
       "italy       NaN\n",
       "japan       1.0\n",
       "spain       NaN\n",
       "uk         12.0\n",
       "dtype: float64"
      ]
     },
     "execution_count": 18,
     "metadata": {},
     "output_type": "execute_result"
    }
   ],
   "source": [
    "ser1*ser2"
   ]
  },
  {
   "cell_type": "code",
   "execution_count": 19,
   "id": "f659a3f0-8622-45f6-a91b-2951563c9997",
   "metadata": {},
   "outputs": [
    {
     "data": {
      "text/plain": [
       "croatia     NaN\n",
       "india       NaN\n",
       "italy       NaN\n",
       "japan      1.00\n",
       "spain       NaN\n",
       "uk         0.75\n",
       "dtype: float64"
      ]
     },
     "execution_count": 19,
     "metadata": {},
     "output_type": "execute_result"
    }
   ],
   "source": [
    "ser1/ser2"
   ]
  },
  {
   "cell_type": "code",
   "execution_count": null,
   "id": "52ab32ab-d7cd-4042-8e63-f16bb1b1e819",
   "metadata": {},
   "outputs": [],
   "source": []
  }
 ],
 "metadata": {
  "kernelspec": {
   "display_name": "Python 3 (ipykernel)",
   "language": "python",
   "name": "python3"
  },
  "language_info": {
   "codemirror_mode": {
    "name": "ipython",
    "version": 3
   },
   "file_extension": ".py",
   "mimetype": "text/x-python",
   "name": "python",
   "nbconvert_exporter": "python",
   "pygments_lexer": "ipython3",
   "version": "3.12.7"
  }
 },
 "nbformat": 4,
 "nbformat_minor": 5
}
