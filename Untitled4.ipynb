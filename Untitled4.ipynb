{
 "cells": [
  {
   "cell_type": "code",
   "execution_count": 11,
   "id": "2cc013b9-65f2-4e32-ba44-ca972f3e9ed0",
   "metadata": {},
   "outputs": [
    {
     "name": "stdout",
     "output_type": "stream",
     "text": [
      "Item 'Pizza' added to the menu\n",
      "Item 'Burger' added to the menu\n",
      "Item 'Pasta' added to the menu\n",
      "Table 1 has been booked \n",
      "Table 2 has been booked \n",
      "Table 3 has been booked \n",
      "Order for Alice: Pizza, Pasta.\n",
      "Order for Bob: Burger.\n",
      "Order for Charlie: Pasta, Pizza.\n",
      "\n",
      "Menu Items:\n",
      "Pizza\n",
      "Burger\n",
      "Pasta\n",
      "\n",
      "Table Reservations:\n",
      "Table 1 booked\n",
      "Table 2 booked\n",
      "Table 3 booked\n",
      "\n",
      "Customer Orders:\n",
      "Alice ordered: Pizza, Pasta\n",
      "Bob ordered: Burger\n",
      "Charlie ordered: Pasta, Pizza\n"
     ]
    }
   ],
   "source": [
    "class Restaurant:\n",
    "    def __init__(self):\n",
    "        self.menu_items = []\n",
    "        self.booked_tables = []\n",
    "        self.customer_orders = {}\n",
    "\n",
    "    def add_item_to_menu(self, item_name):\n",
    "        item = {'name': item_name}\n",
    "        self.menu_items.append(item)\n",
    "        print(f\"Item '{item_name}' added to the menu\")\n",
    "\n",
    "    def book_table(self, table_number):\n",
    "        if table_number not in self.booked_tables:\n",
    "            self.booked_tables.append({'table_number': table_number})\n",
    "            print(f\"Table {table_number} has been booked \")\n",
    "        else:\n",
    "            print(f\"Table {table_number} is already booked.\")\n",
    "\n",
    "    def customer_order(self, customer_name, order_items):\n",
    "        if customer_name not in self.customer_orders:\n",
    "            self.customer_orders[customer_name] = order_items\n",
    "            print(f\"Order for {customer_name}: {', '.join(order_items)}.\")\n",
    "        else:\n",
    "            print(f\"Customer {customer_name} has already placed an order.\")\n",
    "\n",
    "    def print_menu(self):\n",
    "        if self.menu_items:\n",
    "            print(\"\\nMenu Items:\")\n",
    "            for item in self.menu_items:\n",
    "                print(f\"{item['name']}\")\n",
    "        else:\n",
    "            print(\"Menu is empty.\")\n",
    "\n",
    "    def print_table_reservations(self):\n",
    "        if self.booked_tables:\n",
    "            print(\"\\nTable Reservations:\")\n",
    "            for reservation in self.booked_tables:\n",
    "                print(f\"Table {reservation['table_number']} booked\")\n",
    "        else:\n",
    "            print(\"No table reservations yet.\")\n",
    "\n",
    "    def print_customer_orders(self):\n",
    "        if self.customer_orders:\n",
    "            print(\"\\nCustomer Orders:\")\n",
    "            for customer, orders in self.customer_orders.items():\n",
    "                print(f\"{customer} ordered: {', '.join(orders)}\")\n",
    "        else:\n",
    "            print(\"No customer orders yet.\")\n",
    "\n",
    "restaurant = Restaurant()\n",
    "restaurant.add_item_to_menu(\"Pizza\")\n",
    "restaurant.add_item_to_menu(\"Burger\")\n",
    "restaurant.add_item_to_menu(\"Pasta\")\n",
    "\n",
    "\n",
    "restaurant.book_table(1)\n",
    "restaurant.book_table(2)\n",
    "restaurant.book_table(3)\n",
    "\n",
    "restaurant.customer_order(\"Alice\", [\"Pizza\", \"Pasta\"])\n",
    "restaurant.customer_order(\"Bob\", [\"Burger\"])\n",
    "restaurant.customer_order(\"Charlie\", [\"Pasta\", \"Pizza\"])\n",
    "\n",
    "restaurant.print_menu()\n",
    "restaurant.print_table_reservations()\n",
    "restaurant.print_customer_orders()"
   ]
  },
  {
   "cell_type": "code",
   "execution_count": 3,
   "id": "da56104f-2a11-4b4e-8b5f-365042a2cb16",
   "metadata": {},
   "outputs": [
    {
     "name": "stdout",
     "output_type": "stream",
     "text": [
      "Menu items are: ['Pizza', 'Burger']\n",
      "Tables booked: [1, 2]\n",
      "Customer orders: ['Pizza', 'French Fries']\n"
     ]
    },
    {
     "name": "stdin",
     "output_type": "stream",
     "text": [
      "Enter a new menu item:  k\n"
     ]
    },
    {
     "name": "stdout",
     "output_type": "stream",
     "text": [
      "New item added: k\n",
      "Updated menu items: ['Pizza', 'Burger', 'k']\n"
     ]
    },
    {
     "name": "stdin",
     "output_type": "stream",
     "text": [
      "Enter table number to reserve:  j\n"
     ]
    },
    {
     "name": "stdout",
     "output_type": "stream",
     "text": [
      "Table j has been booked.\n"
     ]
    },
    {
     "name": "stdin",
     "output_type": "stream",
     "text": [
      "Enter customer's order:  k\n"
     ]
    },
    {
     "name": "stdout",
     "output_type": "stream",
     "text": [
      "Order received: k\n",
      "Menu items are: ['Pizza', 'Burger', 'k']\n",
      "Tables booked: [1, 2, 'j']\n",
      "Customer orders: ['Pizza', 'French Fries', 'k']\n"
     ]
    }
   ],
   "source": [
    "class Restaurant:\n",
    "    def __init__(self, menu_items, book_table, customer_orders):\n",
    "        self.menu_items = menu_items\n",
    "        self.book_table = book_table\n",
    "        self.customer_orders = customer_orders\n",
    "    \n",
    "    def add_items_to_menu(self):\n",
    "        self.new_item = input(\"Enter a new menu item: \")\n",
    "        self.menu_items.append(self.new_item)\n",
    "        print(f\"New item added: {self.new_item}\")\n",
    "        print(f\"Updated menu items: {self.menu_items}\")\n",
    "    def table_reservation(self):\n",
    "        self.booked_table = input(\"Enter table number to reserve: \")\n",
    "        self.book_table.append(self.booked_table)\n",
    "        print(f\"Table {self.booked_table} has been booked.\")\n",
    "    def add_customer_order(self):\n",
    "        self.order = input(\"Enter customer's order: \")\n",
    "        self.customer_orders.append(self.order)\n",
    "        print(f\"Order received: {self.order}\")   \n",
    "    def print_the_menu(self):\n",
    "        print(f\"Menu items are: {self.menu_items}\")\n",
    "    def print_table_reservation(self):\n",
    "        print(f\"Tables booked: {self.book_table}\")\n",
    "    def print_customer_orders(self):\n",
    "        print(f\"Customer orders: {self.customer_orders}\")\n",
    "\n",
    "restaurant = Restaurant(menu_items=[\"Pizza\", \"Burger\"], book_table=[1, 2], customer_orders=[\"Pizza\", \"French Fries\"])\n",
    "\n",
    "restaurant.print_the_menu()\n",
    "restaurant.print_table_reservation()\n",
    "restaurant.print_customer_orders()\n",
    "\n",
    "restaurant.add_items_to_menu()  \n",
    "restaurant.table_reservation()  \n",
    "restaurant.add_customer_order() \n",
    "\n",
    "restaurant.print_the_menu()\n",
    "restaurant.print_table_reservation()\n",
    "restaurant.print_customer_orders()"
   ]
  },
  {
   "cell_type": "code",
   "execution_count": 5,
   "id": "1bf22b9a-bdc8-4975-bcb0-34bf35dfdcbe",
   "metadata": {},
   "outputs": [
    {
     "name": "stdin",
     "output_type": "stream",
     "text": [
      "Enter table number to reserve:  5\n"
     ]
    },
    {
     "name": "stdout",
     "output_type": "stream",
     "text": [
      "Table 5 has been booked.\n"
     ]
    }
   ],
   "source": [
    " \n",
    "restaurant.table_reservation()"
   ]
  },
  {
   "cell_type": "code",
   "execution_count": null,
   "id": "6a72352b-241e-4f0b-bbd4-1ed5c3015979",
   "metadata": {},
   "outputs": [],
   "source": []
  }
 ],
 "metadata": {
  "kernelspec": {
   "display_name": "Python [conda env:base] *",
   "language": "python",
   "name": "conda-base-py"
  },
  "language_info": {
   "codemirror_mode": {
    "name": "ipython",
    "version": 3
   },
   "file_extension": ".py",
   "mimetype": "text/x-python",
   "name": "python",
   "nbconvert_exporter": "python",
   "pygments_lexer": "ipython3",
   "version": "3.12.7"
  }
 },
 "nbformat": 4,
 "nbformat_minor": 5
}
