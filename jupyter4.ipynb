{
 "cells": [
  {
   "cell_type": "code",
   "execution_count": 1,
   "id": "fdb6e148-6fee-4f30-8021-40f58ae19415",
   "metadata": {},
   "outputs": [
    {
     "name": "stdout",
     "output_type": "stream",
     "text": [
      "0 s\n",
      "1 t\n",
      "2 r\n",
      "3 i\n",
      "4 n\n",
      "5 g\n",
      "6 1\n"
     ]
    }
   ],
   "source": [
    "pattern=\"string1\"\n",
    "for i in range(len(pattern)):\n",
    " print(i,pattern[i])\n"
   ]
  },
  {
   "cell_type": "code",
   "execution_count": 2,
   "id": "6d63178c-45f5-44bc-9ca7-accabd299264",
   "metadata": {},
   "outputs": [
    {
     "name": "stdout",
     "output_type": "stream",
     "text": [
      "1 s\n",
      "2 t\n",
      "3 r\n",
      "4 i\n",
      "5 n\n",
      "6 g\n",
      "7 1\n"
     ]
    }
   ],
   "source": [
    "for pos,p in enumerate(pattern,1):\n",
    "    print(pos,p)"
   ]
  },
  {
   "cell_type": "code",
   "execution_count": 3,
   "id": "ebe5b729-e171-4340-844a-741c757b4835",
   "metadata": {},
   "outputs": [
    {
     "data": {
      "text/plain": [
       "((0, 's'), (1, 't'), (2, 'r'), (3, 'i'), (4, 'n'), (5, 'g'), (6, '1'))"
      ]
     },
     "execution_count": 3,
     "metadata": {},
     "output_type": "execute_result"
    }
   ],
   "source": [
    "tuple(enumerate(pattern))"
   ]
  },
  {
   "cell_type": "code",
   "execution_count": 4,
   "id": "3a945887-e6ec-4300-afc5-170bb8782a63",
   "metadata": {},
   "outputs": [
    {
     "name": "stdout",
     "output_type": "stream",
     "text": [
      "{0: 's', 1: 't', 2: 'r', 3: 'i', 4: 'n', 5: 'g', 6: '1'}\n"
     ]
    }
   ],
   "source": [
    "print(dict(enumerate(pattern)))"
   ]
  },
  {
   "cell_type": "code",
   "execution_count": 9,
   "id": "c3f5b05d-0f12-44f5-9d48-1d3ed2019855",
   "metadata": {},
   "outputs": [
    {
     "name": "stdout",
     "output_type": "stream",
     "text": [
      "[(0, 1), (1, 2), (2, 3), (3, 4)]\n"
     ]
    }
   ],
   "source": [
    "list1=list(enumerate([1,2,3,4]))\n",
    "print(list1)"
   ]
  },
  {
   "cell_type": "markdown",
   "id": "3bec5b2a-6c91-47da-8816-611d783a54de",
   "metadata": {},
   "source": [
    "##regex"
   ]
  },
  {
   "cell_type": "code",
   "execution_count": 6,
   "id": "2a059560-335e-46a1-a21f-72f96408e868",
   "metadata": {},
   "outputs": [],
   "source": [
    "import re\n"
   ]
  },
  {
   "cell_type": "code",
   "execution_count": 7,
   "id": "d3549d32-c484-4f07-bdee-74c9e4f887a1",
   "metadata": {},
   "outputs": [
    {
     "name": "stdout",
     "output_type": "stream",
     "text": [
      "g\n",
      "\t*\n",
      "g\\n\\t*\n"
     ]
    }
   ],
   "source": [
    "print('g\\n\\t*')\n",
    "print(r'g\\n\\t*')\n"
   ]
  },
  {
   "cell_type": "code",
   "execution_count": 15,
   "id": "059ccc37-9f6e-46ff-940b-523d56f148cb",
   "metadata": {},
   "outputs": [
    {
     "data": {
      "text/plain": [
       "<re.Match object; span=(0, 6), match='string'>"
      ]
     },
     "execution_count": 15,
     "metadata": {},
     "output_type": "execute_result"
    }
   ],
   "source": [
    "pattern=\"string\"\n",
    "pattern1=\"string\"\n",
    "re.search(pattern,pattern1)"
   ]
  },
  {
   "cell_type": "code",
   "execution_count": 18,
   "id": "e1e9a414-0ed2-497d-a58f-55b050e6c167",
   "metadata": {},
   "outputs": [
    {
     "data": {
      "text/plain": [
       "<re.Match object; span=(0, 6), match='akshay'>"
      ]
     },
     "execution_count": 18,
     "metadata": {},
     "output_type": "execute_result"
    }
   ],
   "source": [
    "string=\"akshay\"\n",
    "string2=\"akshay\"\n",
    "re.search(string,string2)"
   ]
  },
  {
   "cell_type": "code",
   "execution_count": 19,
   "id": "490c6da7-550b-4b07-8229-857a34f1f96c",
   "metadata": {},
   "outputs": [
    {
     "name": "stdout",
     "output_type": "stream",
     "text": [
      "<re.Match object; span=(4, 8), match='1000'>\n"
     ]
    }
   ],
   "source": [
    "pattern=r'10*'\n",
    "print(re.search(pattern,'abcd1000'))"
   ]
  },
  {
   "cell_type": "code",
   "execution_count": 20,
   "id": "e088011c-9647-4f35-85c2-5438ea844c1f",
   "metadata": {},
   "outputs": [
    {
     "name": "stdout",
     "output_type": "stream",
     "text": [
      "<re.Match object; span=(0, 2), match='22'>\n"
     ]
    }
   ],
   "source": [
    "pattern2=r'22 *'\n",
    "print(re.search(pattern2,'222333'))"
   ]
  },
  {
   "cell_type": "code",
   "execution_count": 23,
   "id": "034229f4-63d0-41fa-a2cf-6dbbba622ab5",
   "metadata": {},
   "outputs": [
    {
     "name": "stdout",
     "output_type": "stream",
     "text": [
      "<re.Match object; span=(4, 7), match='100'>\n"
     ]
    }
   ],
   "source": [
    "pattern=r'10+'\n",
    "print(re.search(pattern,'abcd100'))"
   ]
  },
  {
   "cell_type": "code",
   "execution_count": 24,
   "id": "e56ad5a1-c997-4673-a418-8483f96f83c5",
   "metadata": {},
   "outputs": [
    {
     "name": "stdout",
     "output_type": "stream",
     "text": [
      "<re.Match object; span=(0, 2), match='a0'>\n"
     ]
    }
   ],
   "source": [
    "pattern=r'[a-z]0?'\n",
    "print(re.search(pattern,'a0b100'))"
   ]
  },
  {
   "cell_type": "code",
   "execution_count": 25,
   "id": "4a54834d-e4c7-4a5f-a818-c06f6dbdf7c8",
   "metadata": {},
   "outputs": [
    {
     "name": "stdout",
     "output_type": "stream",
     "text": [
      "<re.Match object; span=(0, 2), match='a0'>\n"
     ]
    }
   ],
   "source": [
    "pattern=r'[a-z]0?'\n",
    "print(re.search(pattern,'a00b100'))"
   ]
  },
  {
   "cell_type": "code",
   "execution_count": 26,
   "id": "72cd9c7e-eaa8-41de-91d4-2a4038739307",
   "metadata": {},
   "outputs": [
    {
     "name": "stdout",
     "output_type": "stream",
     "text": [
      "None\n"
     ]
    }
   ],
   "source": [
    "pattern=r'10{3}'\n",
    "print(re.search(pattern,'ab100'))"
   ]
  },
  {
   "cell_type": "code",
   "execution_count": 28,
   "id": "7701ed26-ed75-4774-9fce-7175f85f15d2",
   "metadata": {},
   "outputs": [
    {
     "name": "stdout",
     "output_type": "stream",
     "text": [
      "<re.Match object; span=(2, 6), match='1000'>\n"
     ]
    }
   ],
   "source": [
    "pattern=r'10{3}'\n",
    "print(re.search(pattern,'ab10000'))"
   ]
  },
  {
   "cell_type": "code",
   "execution_count": 29,
   "id": "4a6577ac-dafe-494a-9190-5cb1e325f4d2",
   "metadata": {},
   "outputs": [
    {
     "name": "stdout",
     "output_type": "stream",
     "text": [
      "<re.Match object; span=(0, 9), match='aAabc_def'>\n"
     ]
    }
   ],
   "source": [
    "pattern=r'[a-zA-Z]+_[a-zA-Z]+'\n",
    "print(re.search(pattern,'aAabc_def_hij'))"
   ]
  },
  {
   "cell_type": "code",
   "execution_count": 30,
   "id": "60fc6da0-20f4-456c-9e47-7c0ef0d232e7",
   "metadata": {},
   "outputs": [
    {
     "name": "stdout",
     "output_type": "stream",
     "text": [
      "<re.Match object; span=(0, 10), match='15-04-1996'>\n"
     ]
    }
   ],
   "source": [
    "pattern=r'\\d{1,2}-\\d{1,2}-\\d{2,4}'\n",
    "print(re.search(pattern,'15-04-1996'))\n"
   ]
  },
  {
   "cell_type": "code",
   "execution_count": 32,
   "id": "2d3757d8-d8b0-4eaf-af70-7585ca78802d",
   "metadata": {},
   "outputs": [
    {
     "name": "stdout",
     "output_type": "stream",
     "text": [
      "None\n"
     ]
    }
   ],
   "source": [
    "pattern=r'\\d{1,2}-\\d{1,2}-\\d{2,4}'\n",
    "print(re.search(pattern,'15-04-1'))\n"
   ]
  },
  {
   "cell_type": "code",
   "execution_count": 33,
   "id": "64a6875f-1d9c-495c-a811-db36ed936a11",
   "metadata": {},
   "outputs": [
    {
     "name": "stdout",
     "output_type": "stream",
     "text": [
      "<re.Match object; span=(0, 8), match='pythonin'>\n"
     ]
    }
   ],
   "source": [
    "pattern=r'[a-zA-Z]{8}'\n",
    "print(re.search(pattern,'pythoninguiyft'))\n"
   ]
  },
  {
   "cell_type": "code",
   "execution_count": 34,
   "id": "7502f47a-24be-409f-a78f-aad0addbf9ce",
   "metadata": {},
   "outputs": [
    {
     "name": "stdout",
     "output_type": "stream",
     "text": [
      "<re.Match object; span=(15, 23), match='tutorial'>\n"
     ]
    }
   ],
   "source": [
    "pattern=r'\\w{8}'\n",
    "print(re.search(pattern,'This is python tutorial'))"
   ]
  },
  {
   "cell_type": "code",
   "execution_count": 35,
   "id": "5127b1e4-eac9-45fc-8682-0e7a43bbf29a",
   "metadata": {},
   "outputs": [
    {
     "name": "stdout",
     "output_type": "stream",
     "text": [
      "<re.Match object; span=(15, 23), match='tutorial'>\n"
     ]
    }
   ],
   "source": [
    "pattern=r'\\w{8}'\n",
    "print(re.search(pattern,'This is python tutorial123'))"
   ]
  },
  {
   "cell_type": "code",
   "execution_count": 36,
   "id": "8eb56eea-8e73-4137-bec1-3d978ba5d007",
   "metadata": {},
   "outputs": [
    {
     "name": "stdout",
     "output_type": "stream",
     "text": [
      "<re.Match object; span=(23, 29), match='python'>\n"
     ]
    }
   ],
   "source": [
    "pattern=r'python$'\n",
    "print(re.search(pattern,'This tutorial is about python'))"
   ]
  },
  {
   "cell_type": "code",
   "execution_count": 37,
   "id": "b2499540-1669-497b-87c1-037c0556b824",
   "metadata": {},
   "outputs": [
    {
     "name": "stdout",
     "output_type": "stream",
     "text": [
      "None\n"
     ]
    }
   ],
   "source": [
    "pattern=r'python$'\n",
    "print(re.search(pattern,'This tutorial is about python 1'))"
   ]
  },
  {
   "cell_type": "code",
   "execution_count": 39,
   "id": "be9b3f6e-39db-49f7-924e-79d7b36ec1ad",
   "metadata": {},
   "outputs": [
    {
     "name": "stdout",
     "output_type": "stream",
     "text": [
      "None\n"
     ]
    }
   ],
   "source": [
    "pattern=r'python$'\n",
    "print(re.search(pattern,'This tutorial is about python and javascript'))"
   ]
  },
  {
   "cell_type": "code",
   "execution_count": 40,
   "id": "3fe973f1-a297-4bf0-b610-5f6c9aa37843",
   "metadata": {},
   "outputs": [
    {
     "name": "stdout",
     "output_type": "stream",
     "text": [
      "<re.Match object; span=(0, 29), match='This tutorial is about Python'>\n"
     ]
    }
   ],
   "source": [
    "pattern=r'^This.*Python$'\n",
    "print(re.search(pattern,'This tutorial is about Python'))\n"
   ]
  },
  {
   "cell_type": "code",
   "execution_count": 41,
   "id": "8ec52ef9-5cf8-41f9-bae4-fd44a407759a",
   "metadata": {},
   "outputs": [
    {
     "name": "stdout",
     "output_type": "stream",
     "text": [
      "<re.Match object; span=(0, 29), match='This tutorial is about Python'>\n"
     ]
    }
   ],
   "source": [
    "pattern=r'^.*Python$'\n",
    "print(re.search(pattern,'This tutorial is about Python'))\n"
   ]
  },
  {
   "cell_type": "code",
   "execution_count": 42,
   "id": "f1bfabdd-18c0-455f-af50-98e25bf1c94e",
   "metadata": {},
   "outputs": [
    {
     "name": "stdout",
     "output_type": "stream",
     "text": [
      "None\n"
     ]
    }
   ],
   "source": [
    "pattern=r'^This*Python$'\n",
    "print(re.search(pattern,'This tutorial is about Python'))\n"
   ]
  },
  {
   "cell_type": "code",
   "execution_count": null,
   "id": "4567959f-a079-41f2-a48d-49a7d6f69875",
   "metadata": {},
   "outputs": [],
   "source": []
  }
 ],
 "metadata": {
  "kernelspec": {
   "display_name": "Python 3 (ipykernel)",
   "language": "python",
   "name": "python3"
  },
  "language_info": {
   "codemirror_mode": {
    "name": "ipython",
    "version": 3
   },
   "file_extension": ".py",
   "mimetype": "text/x-python",
   "name": "python",
   "nbconvert_exporter": "python",
   "pygments_lexer": "ipython3",
   "version": "3.12.7"
  }
 },
 "nbformat": 4,
 "nbformat_minor": 5
}
