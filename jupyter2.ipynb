{
 "cells": [
  {
   "cell_type": "code",
   "execution_count": 8,
   "id": "fdc65b8b-890e-4443-9a8d-ec0a6937da0a",
   "metadata": {},
   "outputs": [],
   "source": [
    "import numpy as np"
   ]
  },
  {
   "cell_type": "code",
   "execution_count": 9,
   "id": "84c0149d-bb3d-444c-a286-301bd9853465",
   "metadata": {},
   "outputs": [],
   "source": [
    "list1=np.random.randint(100,1000,100)"
   ]
  },
  {
   "cell_type": "code",
   "execution_count": 10,
   "id": "9d1d1605-3dfe-473d-bb26-6418bb00614c",
   "metadata": {},
   "outputs": [
    {
     "data": {
      "text/plain": [
       "array([129, 665, 819, 736, 225, 189, 888, 881, 844, 540, 332, 277, 390,\n",
       "       692, 791, 486, 953, 275, 817, 725, 721, 349, 670, 757, 579, 181,\n",
       "       701, 888, 572, 831, 968, 985, 510, 554, 990, 508, 789, 745, 340,\n",
       "       349, 475, 546, 162, 226, 965, 383, 221, 286, 125, 733, 718, 645,\n",
       "       303, 685, 249, 105, 630, 200, 657, 332, 239, 766, 154, 868, 299,\n",
       "       332, 238, 183, 547, 775, 880, 673, 411, 161, 467, 494, 673, 508,\n",
       "       493, 789, 814, 676, 205, 776, 347, 724, 806, 483, 982, 168, 629,\n",
       "       562, 306, 896, 337, 861, 330, 728, 818, 399])"
      ]
     },
     "execution_count": 10,
     "metadata": {},
     "output_type": "execute_result"
    }
   ],
   "source": [
    "list1"
   ]
  },
  {
   "cell_type": "code",
   "execution_count": 30,
   "id": "ae67fcb0-417e-4c99-ad4e-ce8b9a6cbe71",
   "metadata": {},
   "outputs": [],
   "source": [
    "matrix=list1.reshape(5,5,4)"
   ]
  },
  {
   "cell_type": "code",
   "execution_count": 29,
   "id": "b7cbcb9a-09b8-4e8c-a6a1-d89ce27c4925",
   "metadata": {},
   "outputs": [
    {
     "data": {
      "text/plain": [
       "(5, 5, 4)"
      ]
     },
     "execution_count": 29,
     "metadata": {},
     "output_type": "execute_result"
    }
   ],
   "source": [
    "matrix.shape"
   ]
  },
  {
   "cell_type": "code",
   "execution_count": 31,
   "id": "bb59ba9f-f205-43e0-943a-0ccbf07b3ecc",
   "metadata": {},
   "outputs": [
    {
     "data": {
      "text/plain": [
       "array([[[129, 665, 819, 736],\n",
       "        [225, 189, 888, 881],\n",
       "        [844, 540, 332, 277],\n",
       "        [390, 692, 791, 486],\n",
       "        [953, 275, 817, 725]],\n",
       "\n",
       "       [[721, 349, 670, 757],\n",
       "        [579, 181, 701, 888],\n",
       "        [572, 831, 968, 985],\n",
       "        [510, 554, 990, 508],\n",
       "        [789, 745, 340, 349]],\n",
       "\n",
       "       [[475, 546, 162, 226],\n",
       "        [965, 383, 221, 286],\n",
       "        [125, 733, 718, 645],\n",
       "        [303, 685, 249, 105],\n",
       "        [630, 200, 657, 332]],\n",
       "\n",
       "       [[239, 766, 154, 868],\n",
       "        [299, 332, 238, 183],\n",
       "        [547, 775, 880, 673],\n",
       "        [411, 161, 467, 494],\n",
       "        [673, 508, 493, 789]],\n",
       "\n",
       "       [[814, 676, 205, 776],\n",
       "        [347, 724, 806, 483],\n",
       "        [982, 168, 629, 562],\n",
       "        [306, 896, 337, 861],\n",
       "        [330, 728, 818, 399]]])"
      ]
     },
     "execution_count": 31,
     "metadata": {},
     "output_type": "execute_result"
    }
   ],
   "source": [
    "matrix"
   ]
  },
  {
   "cell_type": "code",
   "execution_count": 32,
   "id": "4daaf4e4-8e3d-4735-af2c-a441f1e50a27",
   "metadata": {},
   "outputs": [
    {
     "data": {
      "text/plain": [
       "(5, 5, 4)"
      ]
     },
     "execution_count": 32,
     "metadata": {},
     "output_type": "execute_result"
    }
   ],
   "source": [
    "matrix.shape"
   ]
  },
  {
   "cell_type": "code",
   "execution_count": 39,
   "id": "770b6e94-08fa-4dbb-b29e-ea4f8cb10e60",
   "metadata": {},
   "outputs": [
    {
     "data": {
      "text/plain": [
       "array([[510, 554, 990, 508],\n",
       "       [789, 745, 340, 349]])"
      ]
     },
     "execution_count": 39,
     "metadata": {},
     "output_type": "execute_result"
    }
   ],
   "source": [
    "matrix[1,3:,:]"
   ]
  },
  {
   "cell_type": "code",
   "execution_count": 43,
   "id": "183dd1bf-4501-4bdd-bad1-c63103531c14",
   "metadata": {},
   "outputs": [
    {
     "data": {
      "text/plain": [
       "array([819, 736])"
      ]
     },
     "execution_count": 43,
     "metadata": {},
     "output_type": "execute_result"
    }
   ],
   "source": [
    "matrix[0,0,2::]"
   ]
  },
  {
   "cell_type": "code",
   "execution_count": 49,
   "id": "87ac1454-5304-4810-af65-994b8cef0f14",
   "metadata": {},
   "outputs": [
    {
     "data": {
      "text/plain": [
       "array([[510, 554],\n",
       "       [789, 745]])"
      ]
     },
     "execution_count": 49,
     "metadata": {},
     "output_type": "execute_result"
    }
   ],
   "source": [
    "matrix[1,3:,:2]"
   ]
  },
  {
   "cell_type": "code",
   "execution_count": 50,
   "id": "5b7a2798-7c65-46bb-a0fa-4cb03c0283f4",
   "metadata": {},
   "outputs": [
    {
     "data": {
      "text/plain": [
       "724"
      ]
     },
     "execution_count": 50,
     "metadata": {},
     "output_type": "execute_result"
    }
   ],
   "source": [
    "matrix[4,1,1]"
   ]
  },
  {
   "cell_type": "code",
   "execution_count": 53,
   "id": "ab115aea-e4c3-4e84-933e-62c857a00852",
   "metadata": {},
   "outputs": [
    {
     "data": {
      "text/plain": [
       "array([[238, 183],\n",
       "       [880, 673]])"
      ]
     },
     "execution_count": 53,
     "metadata": {},
     "output_type": "execute_result"
    }
   ],
   "source": [
    "matrix[3,1:3,2:]"
   ]
  },
  {
   "cell_type": "code",
   "execution_count": 54,
   "id": "69c2bb0c-a525-4737-bedd-722e5428e46f",
   "metadata": {},
   "outputs": [],
   "source": [
    "list2=np.arange(1,11)"
   ]
  },
  {
   "cell_type": "code",
   "execution_count": 55,
   "id": "61ef9bb3-3496-48be-9219-e2560c9fdcef",
   "metadata": {},
   "outputs": [
    {
     "data": {
      "text/plain": [
       "array([ 1,  2,  3,  4,  5,  6,  7,  8,  9, 10])"
      ]
     },
     "execution_count": 55,
     "metadata": {},
     "output_type": "execute_result"
    }
   ],
   "source": [
    "list2"
   ]
  },
  {
   "cell_type": "code",
   "execution_count": 58,
   "id": "967c7082-38f8-4887-b89c-da9aba6afc52",
   "metadata": {},
   "outputs": [],
   "source": [
    "list3=list2.copy()"
   ]
  },
  {
   "cell_type": "code",
   "execution_count": 59,
   "id": "6a858740-63d8-4aec-b0b1-f514be06be0f",
   "metadata": {},
   "outputs": [
    {
     "data": {
      "text/plain": [
       "array([ 1,  2,  3,  4,  5,  6,  7,  8,  9, 10])"
      ]
     },
     "execution_count": 59,
     "metadata": {},
     "output_type": "execute_result"
    }
   ],
   "source": [
    "list3"
   ]
  },
  {
   "cell_type": "code",
   "execution_count": 25,
   "id": "134a0e30-01e8-4f92-b195-dd21d5c20282",
   "metadata": {},
   "outputs": [],
   "source": [
    "list7=np.zeros((10,10))"
   ]
  },
  {
   "cell_type": "code",
   "execution_count": 10,
   "id": "0bd05d7a-b8ad-4b60-b916-f58c91afdb8b",
   "metadata": {},
   "outputs": [
    {
     "data": {
      "text/plain": [
       "array([[0., 0., 0., 0., 0., 0., 0., 0., 0., 0.],\n",
       "       [0., 0., 0., 0., 0., 0., 0., 0., 0., 0.],\n",
       "       [0., 0., 0., 0., 0., 0., 0., 0., 0., 0.],\n",
       "       [0., 0., 0., 0., 0., 0., 0., 0., 0., 0.],\n",
       "       [0., 0., 0., 0., 0., 0., 0., 0., 0., 0.],\n",
       "       [0., 0., 0., 0., 0., 0., 0., 0., 0., 0.],\n",
       "       [0., 0., 0., 0., 0., 0., 0., 0., 0., 0.],\n",
       "       [0., 0., 0., 0., 0., 0., 0., 0., 0., 0.],\n",
       "       [0., 0., 0., 0., 0., 0., 0., 0., 0., 0.],\n",
       "       [0., 0., 0., 0., 0., 0., 0., 0., 0., 0.]])"
      ]
     },
     "execution_count": 10,
     "metadata": {},
     "output_type": "execute_result"
    }
   ],
   "source": [
    "list7"
   ]
  },
  {
   "cell_type": "code",
   "execution_count": 12,
   "id": "11852f14-bc88-4383-9b91-1e3e25a8bdb4",
   "metadata": {},
   "outputs": [
    {
     "data": {
      "text/plain": [
       "10"
      ]
     },
     "execution_count": 12,
     "metadata": {},
     "output_type": "execute_result"
    }
   ],
   "source": [
    "list7.shape[1]"
   ]
  },
  {
   "cell_type": "code",
   "execution_count": 29,
   "id": "365e8c10-4340-4ff4-adff-4b16f3eda419",
   "metadata": {},
   "outputs": [
    {
     "data": {
      "text/plain": [
       "array([[0., 0., 0., 0., 0., 0., 0., 0., 0., 0.],\n",
       "       [1., 1., 1., 1., 1., 1., 1., 1., 1., 1.],\n",
       "       [2., 2., 2., 2., 2., 2., 2., 2., 2., 2.],\n",
       "       [3., 3., 3., 3., 3., 3., 3., 3., 3., 3.],\n",
       "       [4., 4., 4., 4., 4., 4., 4., 4., 4., 4.],\n",
       "       [5., 5., 5., 5., 5., 5., 5., 5., 5., 5.],\n",
       "       [6., 6., 6., 6., 6., 6., 6., 6., 6., 6.],\n",
       "       [7., 7., 7., 7., 7., 7., 7., 7., 7., 7.],\n",
       "       [8., 8., 8., 8., 8., 8., 8., 8., 8., 8.],\n",
       "       [9., 9., 9., 9., 9., 9., 9., 9., 9., 9.]])"
      ]
     },
     "execution_count": 29,
     "metadata": {},
     "output_type": "execute_result"
    }
   ],
   "source": [
    "for i in range(1,10):\n",
    "     list7[i]=i\n",
    "list7"
   ]
  },
  {
   "cell_type": "code",
   "execution_count": null,
   "id": "d7c538c5-0b7b-44d5-91d7-edf2376cc373",
   "metadata": {},
   "outputs": [],
   "source": []
  }
 ],
 "metadata": {
  "kernelspec": {
   "display_name": "Python 3 (ipykernel)",
   "language": "python",
   "name": "python3"
  },
  "language_info": {
   "codemirror_mode": {
    "name": "ipython",
    "version": 3
   },
   "file_extension": ".py",
   "mimetype": "text/x-python",
   "name": "python",
   "nbconvert_exporter": "python",
   "pygments_lexer": "ipython3",
   "version": "3.12.3"
  }
 },
 "nbformat": 4,
 "nbformat_minor": 5
}
