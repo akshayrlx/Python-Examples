{
 "cells": [
  {
   "cell_type": "markdown",
   "id": "441efa89-3974-4d69-8883-49be2e55cd5a",
   "metadata": {},
   "source": [
    "# object oriented programming concepts"
   ]
  },
  {
   "cell_type": "code",
   "execution_count": 21,
   "id": "f83e773c-fda8-46b4-be0e-1180e96abb76",
   "metadata": {},
   "outputs": [
    {
     "name": "stdout",
     "output_type": "stream",
     "text": [
      "name:akshay\n",
      "id:2\n",
      "id:1\n",
      "name:anu\n"
     ]
    }
   ],
   "source": [
    "class Student:\n",
    " def __init__(self,name,ids):\n",
    "     self.name=name\n",
    "     self.id=ids\n",
    " def print_name(self):\n",
    "     print(f\"name:{self.name}\")\n",
    " def print_id(self):\n",
    "     print(f\"id:{self.id}\")\n",
    " \n",
    "st1=Student('anu',1)\n",
    "st2=Student('akshay',2)\n",
    "st2.print_name()\n",
    "st2.print_id()\n",
    "st1.print_id()\n",
    "st1.print_name()\n",
    "\n",
    "\n",
    "\n"
   ]
  },
  {
   "cell_type": "code",
   "execution_count": 32,
   "id": "40bc5c27-3dc9-42f5-884c-b9c7de617aad",
   "metadata": {},
   "outputs": [
    {
     "name": "stdout",
     "output_type": "stream",
     "text": [
      "name:messi\n",
      "name:ronaldo\n",
      "number:10\n",
      "number:7\n"
     ]
    }
   ],
   "source": [
    "class players:\n",
    "    def __init__(team,name,number):\n",
    "        team.name=name\n",
    "        team.number=number\n",
    "    def print_name(team):\n",
    "        print(f\"name:{team.name}\")\n",
    "    def print_number(team):\n",
    "        print(f\"number:{team.number}\")\n",
    "\n",
    "ply1=players('messi',10)\n",
    "ply2=players('ronaldo',7)\n",
    "ply1.print_name()\n",
    "ply2.print_name()\n",
    "ply1.print_number()\n",
    "ply2.print_number()"
   ]
  },
  {
   "cell_type": "code",
   "execution_count": 42,
   "id": "3716aa6b-172e-4c7e-8d06-4e95ec39858b",
   "metadata": {},
   "outputs": [
    {
     "name": "stdin",
     "output_type": "stream",
     "text": [
      "enter name: anu\n",
      "enter id: 2\n"
     ]
    },
    {
     "name": "stdout",
     "output_type": "stream",
     "text": [
      "name:anu\n"
     ]
    }
   ],
   "source": [
    "class Student:\n",
    "    def __init__(self):\n",
    "       self.name=input(\"enter name:\")\n",
    "       self.id=input(\"enter id:\")\n",
    "    def print_name(self):\n",
    "       print(f\"name:{self.name}\")\n",
    "    def print_id(self):\n",
    "       print(f\"id:{self.id}\")\n",
    " \n",
    "st1=Student()\n",
    "st1.print_name()"
   ]
  },
  {
   "cell_type": "code",
   "execution_count": 44,
   "id": "968e31b4-f407-44a5-bde5-a63166c080ba",
   "metadata": {},
   "outputs": [
    {
     "name": "stdin",
     "output_type": "stream",
     "text": [
      "enter player name: ronaldo\n",
      "enter player number: 7\n"
     ]
    },
    {
     "name": "stdout",
     "output_type": "stream",
     "text": [
      "name:ronaldo\n",
      "number:7\n"
     ]
    }
   ],
   "source": [
    "class  players:\n",
    "    def __init__(team):\n",
    "        team.name=input(\"enter player name:\")\n",
    "        team.number=int(input(\"enter player number:\"))\n",
    "    def print_name(team):\n",
    "        print(f\"name:{team.name}\")\n",
    "    def print_number(team):\n",
    "        print(f\"number:{team.number}\")\n",
    "ply1=players()\n",
    "ply1.print_name()\n",
    "ply1.print_number()\n"
   ]
  },
  {
   "cell_type": "code",
   "execution_count": null,
   "id": "3b0cc74c-6c3c-4142-9150-a52ca6e02fbc",
   "metadata": {},
   "outputs": [],
   "source": []
  },
  {
   "cell_type": "code",
   "execution_count": 81,
   "id": "2f1cdbbe-8c8c-4097-ab1a-05227a4ef2ec",
   "metadata": {},
   "outputs": [
    {
     "name": "stdout",
     "output_type": "stream",
     "text": [
      "you can withdraw the amt 5000\n",
      "your balance is 25000\n",
      "12334435 your balnce is  25000\n"
     ]
    }
   ],
   "source": [
    "class account:\n",
    "   def __init__(self,accnt_num,accnt_blnce):\n",
    "      self.accnt=accnt_num\n",
    "      self.blnce=accnt_blnce\n",
    "   def withdraw(self,amount):\n",
    "       if self.blnce-amount>=0:\n",
    "            self.blnce=self.blnce-amount\n",
    "            print(\"you can withdraw the amt\",amount)\n",
    "            print(\"your balance is\",self.blnce)\n",
    "       else:\n",
    "          print(\"withdrawal failed\")\n",
    "   def display(self):\n",
    "       print(self.accnt,\"your balnce is \",self.blnce)\n",
    " \n",
    "accnt1=account(12334435,30000)\n",
    "accnt1.withdraw(5000)\n",
    "accnt1"
   ]
  },
  {
   "cell_type": "code",
   "execution_count": 71,
   "id": "53b61fc9-9d99-4163-a7e0-310375afcfa3",
   "metadata": {},
   "outputs": [
    {
     "name": "stdout",
     "output_type": "stream",
     "text": [
      "withdrawal failed\n"
     ]
    }
   ],
   "source": [
    "accnt1.withdraw(500000)"
   ]
  },
  {
   "cell_type": "code",
   "execution_count": 87,
   "id": "d50ba199-55aa-4f2a-9f1d-8b3cc6502fdc",
   "metadata": {},
   "outputs": [
    {
     "name": "stdin",
     "output_type": "stream",
     "text": [
      "enter a name: shiyas\n",
      " colour: green\n"
     ]
    },
    {
     "name": "stdout",
     "output_type": "stream",
     "text": [
      "shiyas\n",
      "animal can walk\n"
     ]
    }
   ],
   "source": [
    "class animal:\n",
    "    def __init__(self):\n",
    "        self.name=input(\"enter a name:\")\n",
    "        self.colour=input(\" colour:\")\n",
    "    def walk(self):\n",
    "        print(\"animal can walk\")\n",
    "a1=animal()\n",
    "print(a1.name)\n",
    "a1.walk()\n"
   ]
  },
  {
   "cell_type": "code",
   "execution_count": null,
   "id": "c9716e25-9f35-4453-a0ba-bc8ec0cd99f1",
   "metadata": {},
   "outputs": [],
   "source": []
  }
 ],
 "metadata": {
  "kernelspec": {
   "display_name": "Python 3 (ipykernel)",
   "language": "python",
   "name": "python3"
  },
  "language_info": {
   "codemirror_mode": {
    "name": "ipython",
    "version": 3
   },
   "file_extension": ".py",
   "mimetype": "text/x-python",
   "name": "python",
   "nbconvert_exporter": "python",
   "pygments_lexer": "ipython3",
   "version": "3.12.7"
  }
 },
 "nbformat": 4,
 "nbformat_minor": 5
}
