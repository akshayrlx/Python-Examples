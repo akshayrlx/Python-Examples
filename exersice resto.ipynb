{
 "cells": [
  {
   "cell_type": "markdown",
   "id": "a8cf71aa-183b-4d4b-95bc-5c8c3c978cc6",
   "metadata": {},
   "source": [
    "# 2"
   ]
  },
  {
   "cell_type": "code",
   "execution_count": 13,
   "id": "161b234c-d58e-408c-8ea7-7e8d20e1514a",
   "metadata": {},
   "outputs": [
    {
     "name": "stdout",
     "output_type": "stream",
     "text": [
      "Menu items are: ['Pizza', 'Burger']\n"
     ]
    },
    {
     "name": "stdin",
     "output_type": "stream",
     "text": [
      "Enter a new menu item:  mandhi\n"
     ]
    },
    {
     "name": "stdout",
     "output_type": "stream",
     "text": [
      "New item added: mandhi\n",
      "Updated menu items: ['Pizza', 'Burger', 'mandhi']\n"
     ]
    },
    {
     "name": "stdin",
     "output_type": "stream",
     "text": [
      "Enter table number to reserve:  2\n"
     ]
    },
    {
     "name": "stdout",
     "output_type": "stream",
     "text": [
      "Table 2 has been booked.\n"
     ]
    },
    {
     "name": "stdin",
     "output_type": "stream",
     "text": [
      "Enter customer's order:  mandhi\n"
     ]
    },
    {
     "name": "stdout",
     "output_type": "stream",
     "text": [
      "Order received: mandhi\n",
      "Menu items are: ['Pizza', 'Burger', 'mandhi']\n",
      "Tables booked: 2\n",
      "Customer orders: ['mandhi']\n"
     ]
    }
   ],
   "source": [
    "class Restaurant:\n",
    "    def __init__(self, menu_items, book_table, customer_orders):\n",
    "        self.menu_items = menu_items\n",
    "        self.book_table = book_table\n",
    "        self.customer_orders = customer_orders\n",
    "    \n",
    "    def add_items_to_menu(self):\n",
    "        self.new_item = input(\"Enter a new menu item: \")\n",
    "        self.menu_items.append(self.new_item)\n",
    "        print(f\"New item added: {self.new_item}\")\n",
    "        print(f\"Updated menu items: {self.menu_items}\")\n",
    "    def table_reservation(self):\n",
    "        self.booked_table = int(input(\"Enter table number to reserve: \"))\n",
    "        self.book_table.append(self.booked_table)\n",
    "        print(f\"Table {self.booked_table} has been booked.\")\n",
    "    def add_customer_order(self):\n",
    "        self.order = input(\"Enter customer's order: \")\n",
    "        self.customer_orders.append(self.order)\n",
    "        print(f\"Order received: {self.order}\")   \n",
    "    def print_the_menu(self):\n",
    "        print(f\"Menu items are: {self.menu_items}\")\n",
    "    def print_table_reservation(self):\n",
    "        print(f\"Tables booked: {self.booked_table}\")\n",
    "    def print_customer_orders(self):\n",
    "        print(f\"Customer orders: {self.customer_orders}\")\n",
    "\n",
    "restaurant = Restaurant(menu_items=[\"Pizza\", \"Burger\"], book_table=[1, 2], customer_orders=[])\n",
    "\n",
    "restaurant.print_the_menu()\n",
    "restaurant.add_items_to_menu()  \n",
    "restaurant.table_reservation()  \n",
    "restaurant.add_customer_order() \n",
    "\n",
    "restaurant.print_the_menu()\n",
    "restaurant.print_table_reservation()\n",
    "restaurant.print_customer_orders()"
   ]
  },
  {
   "cell_type": "code",
   "execution_count": null,
   "id": "a360e8f4-f54f-4c09-9bc3-5edd92150e0e",
   "metadata": {},
   "outputs": [],
   "source": []
  },
  {
   "cell_type": "markdown",
   "id": "4e4b8c5c-bf66-475c-b9eb-70cfbd553d61",
   "metadata": {},
   "source": [
    "# 4"
   ]
  },
  {
   "cell_type": "code",
   "execution_count": null,
   "id": "0b427d2f-c3a8-47a0-a7dc-414cd3b26eb6",
   "metadata": {},
   "outputs": [],
   "source": [
    "class inventory:\n",
    "    def __init__(self,item_id,item_name,stock_count,price):\n",
    "        self.item_id=[]\n",
    "        self.item_name=[]\n",
    "        self.stock_count=[]\n",
    "        self.price=[]\n",
    "    def add_item(self):\n",
    "        self.items=input(\"enter items\")\n",
    "        print(f\"items are:{self.items}\")\n",
    "    def update_items(self):\n",
    "        self.updated_items=input(\"enter new items\")\n",
    "        self.items.append(self.updated_items)\n",
    "        print(f\"new items are:{self.items}\")\n",
    "\n",
    "inventory=Inventory(self_id[1,2,3,4],item_name=[\"watch\",\"shoes\",\"shirt\",\"pants\"],stocl_count=[1,2,3,4],price=[1000,2000,3000,4000])\n",
    "\n",
    "   \n",
    "        \n",
    "        \n",
    "\n",
    "\n",
    "        \n",
    "    \n",
    "    "
   ]
  }
 ],
 "metadata": {
  "kernelspec": {
   "display_name": "Python 3 (ipykernel)",
   "language": "python",
   "name": "python3"
  },
  "language_info": {
   "codemirror_mode": {
    "name": "ipython",
    "version": 3
   },
   "file_extension": ".py",
   "mimetype": "text/x-python",
   "name": "python",
   "nbconvert_exporter": "python",
   "pygments_lexer": "ipython3",
   "version": "3.12.7"
  }
 },
 "nbformat": 4,
 "nbformat_minor": 5
}
