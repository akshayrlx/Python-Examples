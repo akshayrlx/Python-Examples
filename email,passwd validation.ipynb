{
 "cells": [
  {
   "cell_type": "markdown",
   "id": "3cdd435e-391c-4f1b-9457-6876e5f07d4d",
   "metadata": {},
   "source": [
    "# password validation"
   ]
  },
  {
   "cell_type": "code",
   "execution_count": 1,
   "id": "399240d5-bd2e-4240-aa1d-dae6354faad4",
   "metadata": {},
   "outputs": [],
   "source": [
    "import re"
   ]
  },
  {
   "cell_type": "code",
   "execution_count": 3,
   "id": "d11389cf-3fdd-4e4b-ba54-92058e832686",
   "metadata": {},
   "outputs": [
    {
     "name": "stdout",
     "output_type": "stream",
     "text": [
      "valid\n"
     ]
    }
   ],
   "source": [
    "regex=r\"^(?=,*[A-Za-z])(?=.*\\d)[A-Za-z\\d]{8}?$\"\n",
    "def check_password(p):\n",
    "    if re.search(regex,p):\n",
    "        print(\"valid\")\n",
    "    else:\n",
    "        print(\"invalid\")\n",
    "check_password(\"Aksh2345\")"
   ]
  },
  {
   "cell_type": "markdown",
   "id": "189fb198-dba5-4f35-bcc8-ded32ac4df86",
   "metadata": {},
   "source": [
    "# email validation"
   ]
  },
  {
   "cell_type": "code",
   "execution_count": 14,
   "id": "79a5a023-f1de-4836-bc61-eff8ef2a39f7",
   "metadata": {},
   "outputs": [
    {
     "name": "stdout",
     "output_type": "stream",
     "text": [
      "invalid\n"
     ]
    }
   ],
   "source": [
    "import re\n",
    "regex=r'^[a-zA-Z0-9_.+-]+@[a-zA-z0-9-]+\\.[a-zA-Z0-9-.]+$'\n",
    "def check_email(p):\n",
    "    if re.search(regex,p):\n",
    "        print(\"valid\")\n",
    "    else:\n",
    "        print(\"invalid\")\n",
    "check_email('Aksh2345@gmail.com')"
   ]
  },
  {
   "cell_type": "markdown",
   "id": "f71e1614-57f9-4290-a250-480d627a586f",
   "metadata": {},
   "source": [
    "# phone number validation"
   ]
  },
  {
   "cell_type": "code",
   "execution_count": 30,
   "id": "cfd95eb2-c76a-4751-9983-811445d91539",
   "metadata": {},
   "outputs": [
    {
     "name": "stdout",
     "output_type": "stream",
     "text": [
      "valid\n"
     ]
    }
   ],
   "source": [
    "import re\n",
    "regex=r'^(9{1})(\\d{10})$'\n",
    "def check_phone(p):\n",
    "    if re.search(regex,p):\n",
    "        print(\"valid\")\n",
    "    else:\n",
    "        print(\"invalid\")\n",
    "check_phone(\"92345678778\")\n"
   ]
  },
  {
   "cell_type": "code",
   "execution_count": null,
   "id": "99ab7cac-3a19-4e4b-b8ed-d28a8a5c9363",
   "metadata": {},
   "outputs": [],
   "source": []
  }
 ],
 "metadata": {
  "kernelspec": {
   "display_name": "Python 3 (ipykernel)",
   "language": "python",
   "name": "python3"
  },
  "language_info": {
   "codemirror_mode": {
    "name": "ipython",
    "version": 3
   },
   "file_extension": ".py",
   "mimetype": "text/x-python",
   "name": "python",
   "nbconvert_exporter": "python",
   "pygments_lexer": "ipython3",
   "version": "3.12.7"
  }
 },
 "nbformat": 4,
 "nbformat_minor": 5
}
