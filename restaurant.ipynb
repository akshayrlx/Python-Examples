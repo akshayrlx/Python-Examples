{
 "cells": [
  {
   "cell_type": "code",
   "execution_count": null,
   "id": "553e2df1-1e81-4053-94d6-3056802c006f",
   "metadata": {},
   "outputs": [
    {
     "name": "stdin",
     "output_type": "stream",
     "text": [
      " 5\n"
     ]
    },
    {
     "name": "stdout",
     "output_type": "stream",
     "text": [
      "new item added:['pizza', 'burger', '5']\n"
     ]
    }
   ],
   "source": [
    "class Restaurant:\n",
    "    def __init__(self,menu_items,book_table,customer_orders):\n",
    "        self.menu_items=menu_items\n",
    "        self.book_table=book_table\n",
    "        self.customer_orders=customer_orders\n",
    "    def add_items_to_menu(self):\n",
    "        self.new_items=input(\"\")\n",
    "        self.menu_items.append(self.new_items)\n",
    "        print(f\"new item added:{self.menu_items}\")\n",
    "    def table_reservation(self):\n",
    "        self.booked_table=input()\n",
    "        self.book_table.append(self.booked_table)\n",
    "    def customer_orders(self):\n",
    "        self.recived_orders=input()\n",
    "        self.customer_orders.append(self.customer_orders)\n",
    "    def print_the_menu(self):\n",
    "        print(f\"menu items are:{self.menu_items}\")\n",
    "    def print_table_reservation(self):\n",
    "        print(f\"table booked:{self.book_table}\")\n",
    "    def print_customer_orders(self):\n",
    "         print(f\"order recived:{self.recived_orders}\")\n",
    "\n",
    "        \n",
    "restaurant=Restaurant(menu_items=[\"pizza\",\"burger\"],book_table=[1,2],customer_orders=[\"pizza\",\"french fries\"])\n",
    "                                                                                      \n",
    "restaurant.add_items_to_menu()\n",
    "restaurant.table_reservation()\n",
    "        \n",
    "   \n",
    "        \n",
    "      \n"
   ]
  },
  {
   "cell_type": "code",
   "execution_count": null,
   "id": "ffdc73d0-1d29-4889-8b58-92cef1447a37",
   "metadata": {},
   "outputs": [],
   "source": []
  }
 ],
 "metadata": {
  "kernelspec": {
   "display_name": "Python 3 (ipykernel)",
   "language": "python",
   "name": "python3"
  },
  "language_info": {
   "codemirror_mode": {
    "name": "ipython",
    "version": 3
   },
   "file_extension": ".py",
   "mimetype": "text/x-python",
   "name": "python",
   "nbconvert_exporter": "python",
   "pygments_lexer": "ipython3",
   "version": "3.12.7"
  }
 },
 "nbformat": 4,
 "nbformat_minor": 5
}
