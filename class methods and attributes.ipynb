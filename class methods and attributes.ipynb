{
 "cells": [
  {
   "cell_type": "code",
   "execution_count": 9,
   "id": "e5dbdcbd",
   "metadata": {},
   "outputs": [
    {
     "data": {
      "text/plain": [
       "130"
      ]
     },
     "execution_count": 9,
     "metadata": {},
     "output_type": "execute_result"
    }
   ],
   "source": [
    "class student:\n",
    "    grace_mark=10\n",
    "    def __init__(self,name,sid,mark1,mark2,mark3):\n",
    "        self.name=name\n",
    "        self.sid=sid\n",
    "        self.mark1=mark1\n",
    "        self.mark2=mark2\n",
    "        self.mark3=mark3\n",
    "    def find_total(self):\n",
    "        self.total=self.mark1+self.mark2+self.mark3+student.grace_mark\n",
    "        return self.total\n",
    "        #print(\"{} your total mark is {}\".format(self.name,self.total))\n",
    "    @classmethod\n",
    "    def change_grace_mark(cls,grace_mark):\n",
    "        cls.grace_mark=cls.grace_mark+grace_mark\n",
    "\n",
    "s1=student('meena',11,20,30,40)\n",
    "s2=student('kavitha',12,25,35,45)\n",
    "s1.find_total()\n",
    "s2.find_total()\n",
    "student.change_grace_mark(30)\n",
    "s1.find_total()\n",
    "#student.grace_mark=20\n",
    "#print(s2.grace_mark)\n",
    "#s2.find_total()"
   ]
  },
  {
   "cell_type": "code",
   "execution_count": 10,
   "id": "9650d37f",
   "metadata": {},
   "outputs": [
    {
     "name": "stdout",
     "output_type": "stream",
     "text": [
      "name: navya\n",
      "age:20\n",
      "name: kavya\n",
      "age:30\n"
     ]
    }
   ],
   "source": [
    "from datetime import date\n",
    "class student:\n",
    "    def __init__(self,name,age):\n",
    "        self.name=name\n",
    "        self.age=age\n",
    "    def display(self):\n",
    "        print(\"name: {}\\nage:{}\".format(self.name,self.age))\n",
    "    @classmethod\n",
    "    def find_age(cls,name,yob):\n",
    "        return cls(name,(date.today().year-yob))\n",
    "s1=student('navya',20)\n",
    "s2=student.find_age('kavya',1994)\n",
    "s1.display()\n",
    "s2.display()"
   ]
  },
  {
   "cell_type": "code",
   "execution_count": null,
   "id": "70ff55b0",
   "metadata": {},
   "outputs": [],
   "source": []
  }
 ],
 "metadata": {
  "kernelspec": {
   "display_name": "Python 3 (ipykernel)",
   "language": "python",
   "name": "python3"
  },
  "language_info": {
   "codemirror_mode": {
    "name": "ipython",
    "version": 3
   },
   "file_extension": ".py",
   "mimetype": "text/x-python",
   "name": "python",
   "nbconvert_exporter": "python",
   "pygments_lexer": "ipython3",
   "version": "3.11.5"
  }
 },
 "nbformat": 4,
 "nbformat_minor": 5
}
