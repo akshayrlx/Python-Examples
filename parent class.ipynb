{
 "cells": [
  {
   "cell_type": "code",
   "execution_count": 1,
   "id": "b40c7770-e491-48da-8db7-5213cdf4a177",
   "metadata": {},
   "outputs": [
    {
     "name": "stdout",
     "output_type": "stream",
     "text": [
      "there are many types of birds\n",
      "most of the birds can fly but some cannot\n",
      "there are many types of birds\n",
      "sparrow can fly\n",
      "there are many types of birds\n",
      "ostriches cannot fly\n"
     ]
    }
   ],
   "source": [
    "class bird:\n",
    "    def intro(self):\n",
    "        print(\"there are many types of birds\")\n",
    "    def flight(self):\n",
    "        print(\"most of the birds can fly but some cannot\")\n",
    "\n",
    "class sparrow(bird):\n",
    "    def flight(self):\n",
    "        print(\"sparrow can fly\")\n",
    "class ostrich(bird):\n",
    "    def fly(self):\n",
    "        print(\"ostriches cannot fly\")\n",
    "\n",
    "obj_bird=bird()\n",
    "obj_spr=sparrow()\n",
    "obj_ost=ostrich()\n",
    "\n",
    "obj_bird.intro()\n",
    "obj_bird.flight()\n",
    "\n",
    "obj_spr.intro()\n",
    "obj_spr.flight()\n",
    "\n",
    "obj_ost.intro()\n",
    "obj_ost.fly()"
   ]
  },
  {
   "cell_type": "code",
   "execution_count": null,
   "id": "7953ffd5-4e1c-4c39-a916-786d9fa7ad46",
   "metadata": {},
   "outputs": [],
   "source": []
  }
 ],
 "metadata": {
  "kernelspec": {
   "display_name": "Python 3 (ipykernel)",
   "language": "python",
   "name": "python3"
  },
  "language_info": {
   "codemirror_mode": {
    "name": "ipython",
    "version": 3
   },
   "file_extension": ".py",
   "mimetype": "text/x-python",
   "name": "python",
   "nbconvert_exporter": "python",
   "pygments_lexer": "ipython3",
   "version": "3.12.7"
  }
 },
 "nbformat": 4,
 "nbformat_minor": 5
}
